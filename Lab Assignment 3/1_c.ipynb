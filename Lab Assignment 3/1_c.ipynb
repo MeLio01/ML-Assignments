{
 "cells": [
  {
   "cell_type": "code",
   "execution_count": 1,
   "metadata": {},
   "outputs": [],
   "source": [
    "from sklearn.datasets import make_circles\n",
    "import numpy as np\n",
    "import matplotlib.pyplot as plt\n",
    "import pandas as pd\n",
    "import seaborn as sns"
   ]
  },
  {
   "cell_type": "code",
   "execution_count": 2,
   "metadata": {},
   "outputs": [
    {
     "data": {
      "text/plain": [
       "<AxesSubplot:>"
      ]
     },
     "execution_count": 2,
     "metadata": {},
     "output_type": "execute_result"
    },
    {
     "data": {
      "image/png": "[encoded data removed]",
      "text/plain": [
       "<Figure size 432x288 with 1 Axes>"
      ]
     },
     "metadata": {
      "needs_background": "light"
     },
     "output_type": "display_data"
    }
   ],
   "source": [
    "# Generate data\n",
    "x,y=make_circles(n_samples=100,noise=0.1,factor=0.2,random_state=20)\n",
    "sns.scatterplot(x=x[:,0],y=x[:,1],hue=y)"
   ]
  },
  {
   "cell_type": "code",
   "execution_count": 3,
   "metadata": {},
   "outputs": [],
   "source": [
    "# Add bias\n",
    "x=pd.DataFrame(x)\n",
    "x[2]=1"
   ]
  },
  {
   "cell_type": "code",
   "execution_count": 4,
   "metadata": {},
   "outputs": [],
   "source": [
    "# Function to generate polynomial features\n",
    "def polynomial_features(x,degree):\n",
    "    x_poly=pd.DataFrame()\n",
    "    for i in range(len(x.columns)):\n",
    "        for j in x.columns:\n",
    "            x_poly[str(i)+'*'+str(j)]=x[i]*x[j]        \n",
    "    return x_poly"
   ]
  },
  {
   "cell_type": "code",
   "execution_count": 5,
   "metadata": {},
   "outputs": [
    {
     "data": {
      "text/html": [
       "<div>\n",
       "<style scoped>\n",
       "    .dataframe tbody tr th:only-of-type {\n",
       "        vertical-align: middle;\n",
       "    }\n",
       "\n",
       "    .dataframe tbody tr th {\n",
       "        vertical-align: top;\n",
       "    }\n",
       "\n",
       "    .dataframe thead th {\n",
       "        text-align: right;\n",
       "    }\n",
       "</style>\n",
       "<table border=\"1\" class=\"dataframe\">\n",
       "  <thead>\n",
       "    <tr style=\"text-align: right;\">\n",
       "      <th></th>\n",
       "      <th>0</th>\n",
       "      <th>1</th>\n",
       "      <th>2</th>\n",
       "    </tr>\n",
       "  </thead>\n",
       "  <tbody>\n",
       "    <tr>\n",
       "      <th>0</th>\n",
       "      <td>-0.183255</td>\n",
       "      <td>0.203277</td>\n",
       "      <td>1</td>\n",
       "    </tr>\n",
       "    <tr>\n",
       "      <th>1</th>\n",
       "      <td>-0.090094</td>\n",
       "      <td>-0.021479</td>\n",
       "      <td>1</td>\n",
       "    </tr>\n",
       "    <tr>\n",
       "      <th>2</th>\n",
       "      <td>1.022440</td>\n",
       "      <td>0.195942</td>\n",
       "      <td>1</td>\n",
       "    </tr>\n",
       "    <tr>\n",
       "      <th>3</th>\n",
       "      <td>0.775336</td>\n",
       "      <td>-0.864365</td>\n",
       "      <td>1</td>\n",
       "    </tr>\n",
       "    <tr>\n",
       "      <th>4</th>\n",
       "      <td>0.204972</td>\n",
       "      <td>0.254317</td>\n",
       "      <td>1</td>\n",
       "    </tr>\n",
       "  </tbody>\n",
       "</table>\n",
       "</div>"
      ],
      "text/plain": [
       "          0         1  2\n",
       "0 -0.183255  0.203277  1\n",
       "1 -0.090094 -0.021479  1\n",
       "2  1.022440  0.195942  1\n",
       "3  0.775336 -0.864365  1\n",
       "4  0.204972  0.254317  1"
      ]
     },
     "execution_count": 5,
     "metadata": {},
     "output_type": "execute_result"
    }
   ],
   "source": [
    "x.head()"
   ]
  },
  {
   "cell_type": "code",
   "execution_count": 6,
   "metadata": {},
   "outputs": [],
   "source": [
    "# Perceptron algorithm\n",
    "def perceptron(x,y):\n",
    "    x=polynomial_features(x,degree=2)\n",
    "    m=len(x)\n",
    "    n=len(x.columns)\n",
    "    j=m\n",
    "    k=100\n",
    "    w=np.random.rand(n)\n",
    "    # Loop until convergence or max iterations k\n",
    "    while(k!=0 and j!=0):\n",
    "        k-=1\n",
    "        j=0\n",
    "        for i in range(m):\n",
    "            dw=0\n",
    "            if((w.T@x.iloc[i,:])<0 and y[i]==1):\n",
    "                dw=x.iloc[i,:]\n",
    "                j+=1\n",
    "            elif((w.T@x.iloc[i,:])>=0 and y[i]==0):\n",
    "                dw=-x.iloc[i,:]\n",
    "                j+=1\n",
    "            w=w+dw\n",
    "    return w"
   ]
  },
  {
   "cell_type": "code",
   "execution_count": 7,
   "metadata": {},
   "outputs": [
    {
     "data": {
      "text/plain": [
       "0*0   -3.341864\n",
       "0*1   -0.226155\n",
       "0*2   -0.235612\n",
       "1*0    0.428767\n",
       "1*1   -2.407897\n",
       "1*2    0.506552\n",
       "2*0    0.339470\n",
       "2*1   -0.300715\n",
       "2*2    0.677930\n",
       "dtype: float64"
      ]
     },
     "execution_count": 7,
     "metadata": {},
     "output_type": "execute_result"
    }
   ],
   "source": [
    "w=perceptron(x,y)\n",
    "# Final weights\n",
    "w"
   ]
  },
  {
   "cell_type": "code",
   "execution_count": 8,
   "metadata": {},
   "outputs": [],
   "source": [
    "# Prediction function\n",
    "def h(z):\n",
    "    if z>=0:\n",
    "        return 1\n",
    "    else:\n",
    "        return 0"
   ]
  },
  {
   "cell_type": "code",
   "execution_count": 9,
   "metadata": {},
   "outputs": [],
   "source": [
    "# predict function for array\n",
    "def h_array(z):\n",
    "    z[z>=0]=1\n",
    "    z[z<0]=0\n",
    "    return z"
   ]
  },
  {
   "cell_type": "code",
   "execution_count": 10,
   "metadata": {},
   "outputs": [],
   "source": [
    "# Predicting the class for given x\n",
    "def func(x0,x1,w):\n",
    "    c=w[0]*(x0**2)+(w[1]+w[3])*x0*x1+(w[2]+w[6])*x0+w[4]*(x1**2)+(w[5]+w[7])*x1+w[8]\n",
    "    z=h_array(c)\n",
    "    return c"
   ]
  },
  {
   "cell_type": "code",
   "execution_count": 11,
   "metadata": {},
   "outputs": [
    {
     "data": {
      "image/png": "[encoded data removed]",
      "text/plain": [
       "<Figure size 432x288 with 1 Axes>"
      ]
     },
     "metadata": {
      "needs_background": "light"
     },
     "output_type": "display_data"
    }
   ],
   "source": [
    "#plotting the decision boundary\n",
    "x_min, x_max = min(x[0])-0.1 , max(x[0]) +0.1\n",
    "y_min, y_max = min(x[1]) -0.1, max(x[1]) +0.1\n",
    "xx, yy = np.meshgrid(np.arange(x_min, x_max, 0.01),np.arange(y_min, y_max, 0.01))\n",
    "Z = func(xx.ravel(), yy.ravel(),w) \n",
    "Z = Z.reshape(xx.shape)\n",
    "plt.contour(xx, yy, Z)\n",
    "plt.scatter(x[0],x[1],c=y,cmap='coolwarm')\n",
    "plt.show()"
   ]
  }
 ],
 "metadata": {
  "interpreter": {
   "hash": "b3ba2566441a7c06988d0923437866b63cedc61552a5af99d1f4fb67d367b25f"
  },
  "kernelspec": {
   "display_name": "Python 3.8.8 ('base')",
   "language": "python",
   "name": "python3"
  },
  "language_info": {
   "codemirror_mode": {
    "name": "ipython",
    "version": 3
   },
   "file_extension": ".py",
   "mimetype": "text/x-python",
   "name": "python",
   "nbconvert_exporter": "python",
   "pygments_lexer": "ipython3",
   "version": "3.8.10"
  },
  "orig_nbformat": 4
 },
 "nbformat": 4,
 "nbformat_minor": 2
}
