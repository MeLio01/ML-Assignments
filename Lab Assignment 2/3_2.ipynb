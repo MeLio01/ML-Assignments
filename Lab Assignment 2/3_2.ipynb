{
 "cells": [
  {
   "cell_type": "code",
   "execution_count": 1,
   "metadata": {},
   "outputs": [
    {
     "name": "stderr",
     "output_type": "stream",
     "text": [
      "[nltk_data] Downloading package wordnet to /home/melio/nltk_data...\n",
      "[nltk_data]   Package wordnet is already up-to-date!\n",
      "[nltk_data] Downloading package stopwords to /home/melio/nltk_data...\n",
      "[nltk_data]   Package stopwords is already up-to-date!\n",
      "[nltk_data] Downloading package omw-1.4 to /home/melio/nltk_data...\n",
      "[nltk_data]   Package omw-1.4 is already up-to-date!\n"
     ]
    }
   ],
   "source": [
    "import numpy as np\n",
    "import pandas as pd\n",
    "import sklearn.metrics\n",
    "import sklearn.model_selection\n",
    "import nltk\n",
    "from nltk.corpus import stopwords\n",
    "from nltk.stem import PorterStemmer\n",
    "import nltk\n",
    "nltk.download('wordnet')\n",
    "nltk.download('stopwords')\n",
    "nltk.download('omw-1.4')\n",
    "from nltk.corpus import stopwords # Importing list of stop words from nltk\n",
    "from string import punctuation # Importing list of punctuations from string\n",
    "from nltk.stem.porter import PorterStemmer\n",
    "from nltk.stem import WordNetLemmatizer\n",
    "from nltk.tokenize import RegexpTokenizer\n",
    "import matplotlib.pyplot as plt\n",
    "import seaborn as sns\n"
   ]
  },
  {
   "cell_type": "code",
   "execution_count": 2,
   "metadata": {},
   "outputs": [],
   "source": [
    "stopwords = stopwords.words('english')\n",
    "tokenizer = RegexpTokenizer(\"[\\w']+\")\n",
    "porter_stemmer = PorterStemmer()\n",
    "wordnet_lemmatizer = WordNetLemmatizer()"
   ]
  },
  {
   "cell_type": "code",
   "execution_count": 3,
   "metadata": {},
   "outputs": [
    {
     "data": {
      "text/html": [
       "<div>\n",
       "<style scoped>\n",
       "    .dataframe tbody tr th:only-of-type {\n",
       "        vertical-align: middle;\n",
       "    }\n",
       "\n",
       "    .dataframe tbody tr th {\n",
       "        vertical-align: top;\n",
       "    }\n",
       "\n",
       "    .dataframe thead th {\n",
       "        text-align: right;\n",
       "    }\n",
       "</style>\n",
       "<table border=\"1\" class=\"dataframe\">\n",
       "  <thead>\n",
       "    <tr style=\"text-align: right;\">\n",
       "      <th></th>\n",
       "      <th>message</th>\n",
       "      <th>topic</th>\n",
       "    </tr>\n",
       "  </thead>\n",
       "  <tbody>\n",
       "    <tr>\n",
       "      <th>0</th>\n",
       "      <td>From: lerxst@wam.umd.edu (where's my thing)\\r\\...</td>\n",
       "      <td>7</td>\n",
       "    </tr>\n",
       "    <tr>\n",
       "      <th>1</th>\n",
       "      <td>From: guykuo@carson.u.washington.edu (Guy Kuo)...</td>\n",
       "      <td>4</td>\n",
       "    </tr>\n",
       "    <tr>\n",
       "      <th>2</th>\n",
       "      <td>From: twillis@ec.ecn.purdue.edu (Thomas E Will...</td>\n",
       "      <td>4</td>\n",
       "    </tr>\n",
       "    <tr>\n",
       "      <th>3</th>\n",
       "      <td>From: jgreen@amber (Joe Green)\\r\\nSubject: Re:...</td>\n",
       "      <td>1</td>\n",
       "    </tr>\n",
       "    <tr>\n",
       "      <th>4</th>\n",
       "      <td>From: jcm@head-cfa.harvard.edu (Jonathan McDow...</td>\n",
       "      <td>14</td>\n",
       "    </tr>\n",
       "    <tr>\n",
       "      <th>...</th>\n",
       "      <td>...</td>\n",
       "      <td>...</td>\n",
       "    </tr>\n",
       "    <tr>\n",
       "      <th>11309</th>\n",
       "      <td>From: jim.zisfein@factory.com (Jim Zisfein) \\r...</td>\n",
       "      <td>13</td>\n",
       "    </tr>\n",
       "    <tr>\n",
       "      <th>11310</th>\n",
       "      <td>From: ebodin@pearl.tufts.edu\\r\\nSubject: Scree...</td>\n",
       "      <td>4</td>\n",
       "    </tr>\n",
       "    <tr>\n",
       "      <th>11311</th>\n",
       "      <td>From: westes@netcom.com (Will Estes)\\r\\nSubjec...</td>\n",
       "      <td>3</td>\n",
       "    </tr>\n",
       "    <tr>\n",
       "      <th>11312</th>\n",
       "      <td>From: steve@hcrlgw (Steven Collins)\\r\\nSubject...</td>\n",
       "      <td>1</td>\n",
       "    </tr>\n",
       "    <tr>\n",
       "      <th>11313</th>\n",
       "      <td>From: gunning@cco.caltech.edu (Kevin J. Gunnin...</td>\n",
       "      <td>8</td>\n",
       "    </tr>\n",
       "  </tbody>\n",
       "</table>\n",
       "<p>11314 rows × 2 columns</p>\n",
       "</div>"
      ],
      "text/plain": [
       "                                                 message  topic\n",
       "0      From: lerxst@wam.umd.edu (where's my thing)\\r\\...      7\n",
       "1      From: guykuo@carson.u.washington.edu (Guy Kuo)...      4\n",
       "2      From: twillis@ec.ecn.purdue.edu (Thomas E Will...      4\n",
       "3      From: jgreen@amber (Joe Green)\\r\\nSubject: Re:...      1\n",
       "4      From: jcm@head-cfa.harvard.edu (Jonathan McDow...     14\n",
       "...                                                  ...    ...\n",
       "11309  From: jim.zisfein@factory.com (Jim Zisfein) \\r...     13\n",
       "11310  From: ebodin@pearl.tufts.edu\\r\\nSubject: Scree...      4\n",
       "11311  From: westes@netcom.com (Will Estes)\\r\\nSubjec...      3\n",
       "11312  From: steve@hcrlgw (Steven Collins)\\r\\nSubject...      1\n",
       "11313  From: gunning@cco.caltech.edu (Kevin J. Gunnin...      8\n",
       "\n",
       "[11314 rows x 2 columns]"
      ]
     },
     "execution_count": 3,
     "metadata": {},
     "output_type": "execute_result"
    }
   ],
   "source": [
    "train_df=pd.read_csv('classifying-20-newsgroups/classifying-20-newsgroups/train.csv')\n",
    "train_df=train_df.drop(['id'],axis=1)\n",
    "train_df"
   ]
  },
  {
   "cell_type": "code",
   "execution_count": 4,
   "metadata": {},
   "outputs": [
    {
     "data": {
      "text/plain": [
       "0        From: lerxst@wam.umd.edu (where's my thing)\\r\\...\n",
       "1        From: guykuo@carson.u.washington.edu (Guy Kuo)...\n",
       "2        From: twillis@ec.ecn.purdue.edu (Thomas E Will...\n",
       "3        From: jgreen@amber (Joe Green)\\r\\nSubject: Re:...\n",
       "4        From: jcm@head-cfa.harvard.edu (Jonathan McDow...\n",
       "                               ...                        \n",
       "11309    From: jim.zisfein@factory.com (Jim Zisfein) \\r...\n",
       "11310    From: ebodin@pearl.tufts.edu\\r\\nSubject: Scree...\n",
       "11311    From: westes@netcom.com (Will Estes)\\r\\nSubjec...\n",
       "11312    From: steve@hcrlgw (Steven Collins)\\r\\nSubject...\n",
       "11313    From: gunning@cco.caltech.edu (Kevin J. Gunnin...\n",
       "Name: message, Length: 11314, dtype: object"
      ]
     },
     "execution_count": 4,
     "metadata": {},
     "output_type": "execute_result"
    }
   ],
   "source": [
    "x_train=train_df[\"message\"]\n",
    "x_train"
   ]
  },
  {
   "cell_type": "code",
   "execution_count": 5,
   "metadata": {},
   "outputs": [
    {
     "data": {
      "text/plain": [
       "0         7\n",
       "1         4\n",
       "2         4\n",
       "3         1\n",
       "4        14\n",
       "         ..\n",
       "11309    13\n",
       "11310     4\n",
       "11311     3\n",
       "11312     1\n",
       "11313     8\n",
       "Name: topic, Length: 11314, dtype: int64"
      ]
     },
     "execution_count": 5,
     "metadata": {},
     "output_type": "execute_result"
    }
   ],
   "source": [
    "y_train=train_df[\"topic\"]\n",
    "y_train"
   ]
  },
  {
   "cell_type": "code",
   "execution_count": 6,
   "metadata": {},
   "outputs": [
    {
     "data": {
      "text/plain": [
       "0       From: v064mb9k@ubvmsd.cc.buffalo.edu (NEIL B. ...\n",
       "1       From: Rick Miller <rick@ee.uwm.edu>\\r\\nSubject...\n",
       "2       From: mathew <mathew@mantis.co.uk>\\r\\nSubject:...\n",
       "3       From: bakken@cs.arizona.edu (Dave Bakken)\\r\\nS...\n",
       "4       From: livesey@solntze.wpd.sgi.com (Jon Livesey...\n",
       "                              ...                        \n",
       "7527    From: richmond@spiff.Princeton.EDU (Stupendous...\n",
       "7528    From: smytonj@murr11.alleg.edu (Jim Smyton)\\r\\...\n",
       "7529    From: hhenderson@vax.clarku.edu\\r\\nSubject: RE...\n",
       "7530    From: b859zam@utarlg.uta.edu \\r\\nSubject: INTE...\n",
       "7531    From: adamsj@gtewd.mtv.gtegsc.com\\r\\nSubject: ...\n",
       "Name: message, Length: 7532, dtype: object"
      ]
     },
     "execution_count": 6,
     "metadata": {},
     "output_type": "execute_result"
    }
   ],
   "source": [
    "x_test=pd.read_csv('classifying-20-newsgroups/classifying-20-newsgroups/test.csv')\n",
    "x_test=x_test.drop(['id'],axis=1)\n",
    "x_test=x_test[\"message\"]\n",
    "x_test"
   ]
  },
  {
   "cell_type": "code",
   "execution_count": 7,
   "metadata": {},
   "outputs": [
    {
     "data": {
      "text/html": [
       "<div>\n",
       "<style scoped>\n",
       "    .dataframe tbody tr th:only-of-type {\n",
       "        vertical-align: middle;\n",
       "    }\n",
       "\n",
       "    .dataframe tbody tr th {\n",
       "        vertical-align: top;\n",
       "    }\n",
       "\n",
       "    .dataframe thead th {\n",
       "        text-align: right;\n",
       "    }\n",
       "</style>\n",
       "<table border=\"1\" class=\"dataframe\">\n",
       "  <thead>\n",
       "    <tr style=\"text-align: right;\">\n",
       "      <th></th>\n",
       "      <th>topic</th>\n",
       "    </tr>\n",
       "  </thead>\n",
       "  <tbody>\n",
       "    <tr>\n",
       "      <th>0</th>\n",
       "      <td>7</td>\n",
       "    </tr>\n",
       "    <tr>\n",
       "      <th>1</th>\n",
       "      <td>5</td>\n",
       "    </tr>\n",
       "    <tr>\n",
       "      <th>2</th>\n",
       "      <td>0</td>\n",
       "    </tr>\n",
       "    <tr>\n",
       "      <th>3</th>\n",
       "      <td>17</td>\n",
       "    </tr>\n",
       "    <tr>\n",
       "      <th>4</th>\n",
       "      <td>19</td>\n",
       "    </tr>\n",
       "    <tr>\n",
       "      <th>...</th>\n",
       "      <td>...</td>\n",
       "    </tr>\n",
       "    <tr>\n",
       "      <th>7527</th>\n",
       "      <td>14</td>\n",
       "    </tr>\n",
       "    <tr>\n",
       "      <th>7528</th>\n",
       "      <td>4</td>\n",
       "    </tr>\n",
       "    <tr>\n",
       "      <th>7529</th>\n",
       "      <td>9</td>\n",
       "    </tr>\n",
       "    <tr>\n",
       "      <th>7530</th>\n",
       "      <td>6</td>\n",
       "    </tr>\n",
       "    <tr>\n",
       "      <th>7531</th>\n",
       "      <td>15</td>\n",
       "    </tr>\n",
       "  </tbody>\n",
       "</table>\n",
       "<p>7532 rows × 1 columns</p>\n",
       "</div>"
      ],
      "text/plain": [
       "      topic\n",
       "0         7\n",
       "1         5\n",
       "2         0\n",
       "3        17\n",
       "4        19\n",
       "...     ...\n",
       "7527     14\n",
       "7528      4\n",
       "7529      9\n",
       "7530      6\n",
       "7531     15\n",
       "\n",
       "[7532 rows x 1 columns]"
      ]
     },
     "execution_count": 7,
     "metadata": {},
     "output_type": "execute_result"
    }
   ],
   "source": [
    "y_test=pd.read_csv('classifying-20-newsgroups/classifying-20-newsgroups/solution.csv')\n",
    "y_test=y_test.drop(['Unnamed: 0','id'],axis=1)\n",
    "y_test"
   ]
  },
  {
   "cell_type": "code",
   "execution_count": 8,
   "metadata": {},
   "outputs": [
    {
     "data": {
      "text/plain": [
       "0        From: lerxst@wam.umd.edu (where's my thing)\\r\\...\n",
       "1        From: guykuo@carson.u.washington.edu (Guy Kuo)...\n",
       "2        From: twillis@ec.ecn.purdue.edu (Thomas E Will...\n",
       "3        From: jgreen@amber (Joe Green)\\r\\nSubject: Re:...\n",
       "4        From: jcm@head-cfa.harvard.edu (Jonathan McDow...\n",
       "                               ...                        \n",
       "11309    From: jim.zisfein@factory.com (Jim Zisfein) \\r...\n",
       "11310    From: ebodin@pearl.tufts.edu\\r\\nSubject: Scree...\n",
       "11311    From: westes@netcom.com (Will Estes)\\r\\nSubjec...\n",
       "11312    From: steve@hcrlgw (Steven Collins)\\r\\nSubject...\n",
       "11313    From: gunning@cco.caltech.edu (Kevin J. Gunnin...\n",
       "Name: message, Length: 11314, dtype: object"
      ]
     },
     "execution_count": 8,
     "metadata": {},
     "output_type": "execute_result"
    }
   ],
   "source": [
    "x_train"
   ]
  },
  {
   "cell_type": "code",
   "execution_count": 9,
   "metadata": {},
   "outputs": [],
   "source": [
    "def preprocessing(document):\n",
    "    document = str(document)\n",
    "    document =\"\".join([i for i in document if i not in punctuation])\n",
    "    document = document.lower()\n",
    "    tokens = tokenizer.tokenize(document)\n",
    "    tokens = [token for token in tokens if token.isnumeric()==False]\n",
    "    output = [word for word in tokens if word not in stopwords]\n",
    "    stemmed_text = [porter_stemmer.stem(word) for word in output]\n",
    "    lemm_text = [wordnet_lemmatizer.lemmatize(word) for word in stemmed_text]\n",
    "\n",
    "    return lemm_text"
   ]
  },
  {
   "cell_type": "code",
   "execution_count": 10,
   "metadata": {},
   "outputs": [],
   "source": [
    "priors=np.zeros(20,dtype=np.float128)"
   ]
  },
  {
   "cell_type": "code",
   "execution_count": 11,
   "metadata": {},
   "outputs": [
    {
     "data": {
      "text/plain": [
       "7     594\n",
       "4     578\n",
       "1     584\n",
       "14    593\n",
       "16    546\n",
       "13    594\n",
       "3     590\n",
       "2     591\n",
       "8     598\n",
       "19    377\n",
       "6     585\n",
       "0     480\n",
       "12    591\n",
       "5     593\n",
       "10    600\n",
       "9     597\n",
       "15    599\n",
       "17    564\n",
       "18    465\n",
       "11    595\n",
       "Name: topic, dtype: int64"
      ]
     },
     "execution_count": 11,
     "metadata": {},
     "output_type": "execute_result"
    }
   ],
   "source": [
    "y_count = y_train.value_counts(sort=False)\n",
    "y_count"
   ]
  },
  {
   "cell_type": "code",
   "execution_count": 12,
   "metadata": {},
   "outputs": [
    {
     "data": {
      "text/plain": [
       "array([480., 584., 591., 590., 578., 593., 585., 594., 598., 597., 600.,\n",
       "       595., 591., 594., 593., 599., 546., 564., 465., 377.],\n",
       "      dtype=float128)"
      ]
     },
     "execution_count": 12,
     "metadata": {},
     "output_type": "execute_result"
    }
   ],
   "source": [
    "yc=np.zeros(20,dtype=np.float128)\n",
    "for i in range(0,20):\n",
    "  yc[i]=y_count[i]\n",
    "yc"
   ]
  },
  {
   "cell_type": "code",
   "execution_count": 13,
   "metadata": {},
   "outputs": [
    {
     "data": {
      "text/plain": [
       "array([0.04242531, 0.05161747, 0.05223617, 0.05214778, 0.05108715,\n",
       "       0.05241294, 0.05170585, 0.05250133, 0.05285487, 0.05276648,\n",
       "       0.05303164, 0.05258971, 0.05223617, 0.05250133, 0.05241294,\n",
       "       0.05294326, 0.04825879, 0.04984974, 0.04109952, 0.03332155],\n",
       "      dtype=float128)"
      ]
     },
     "execution_count": 13,
     "metadata": {},
     "output_type": "execute_result"
    }
   ],
   "source": [
    "for i in range(0, 20):\n",
    "  priors[i] = yc[i]/y_train.shape[0]\n",
    "priors"
   ]
  },
  {
   "cell_type": "code",
   "execution_count": 14,
   "metadata": {},
   "outputs": [
    {
     "data": {
      "text/plain": [
       "0       [v064mb9kubvmsdccbuffaloedu, neil, b, gandler,...\n",
       "1       [rick, miller, rickeeuwmedu, subject, xface, o...\n",
       "2       [mathew, mathewmantiscouk, subject, strong, we...\n",
       "3       [bakkencsarizonaedu, dave, bakken, subject, sa...\n",
       "4       [liveseysolntzewpdsgicom, jon, livesey, subjec...\n",
       "                              ...                        \n",
       "7527    [richmondspiffprincetonedu, stupend, man, subj...\n",
       "7528    [smytonjmurr11allegedu, jim, smyton, subject, ...\n",
       "7529    [hhendersonvaxclarkuedu, subject, game, length...\n",
       "7530    [b859zamutarlgutaedu, subject, intel, chmo, de...\n",
       "7531    [adamsjgtewdmtvgtegsccom, subject, homosexu, i...\n",
       "Name: message, Length: 7532, dtype: object"
      ]
     },
     "execution_count": 14,
     "metadata": {},
     "output_type": "execute_result"
    }
   ],
   "source": [
    "x_test=x_test.apply(lambda x:preprocessing(x))\n",
    "x_test"
   ]
  },
  {
   "cell_type": "code",
   "execution_count": 15,
   "metadata": {},
   "outputs": [
    {
     "data": {
      "text/plain": [
       "0        [lerxstwamumdedu, where, thing, subject, car, ...\n",
       "1        [guykuocarsonuwashingtonedu, guy, kuo, subject...\n",
       "2        [twillisececnpurdueedu, thoma, e, willi, subje...\n",
       "3        [jgreenamb, joe, green, subject, weitek, p9000...\n",
       "4        [jcmheadcfaharvardedu, jonathan, mcdowel, subj...\n",
       "                               ...                        \n",
       "11309    [jimzisfeinfactorycom, jim, zisfein, subject, ...\n",
       "11310    [ebodinpearltuftsedu, subject, screen, death, ...\n",
       "11311    [westesnetcomcom, est, subject, mount, cpu, co...\n",
       "11312    [stevehcrlgw, steven, collin, subject, sphere,...\n",
       "11313    [gunningccocaltechedu, kevin, j, gun, subject,...\n",
       "Name: message, Length: 11314, dtype: object"
      ]
     },
     "execution_count": 15,
     "metadata": {},
     "output_type": "execute_result"
    }
   ],
   "source": [
    "x_train=x_train.apply(lambda x:preprocessing(x))\n",
    "x_train"
   ]
  },
  {
   "cell_type": "code",
   "execution_count": 16,
   "metadata": {},
   "outputs": [],
   "source": [
    "map={}\n",
    "#Map to store frequency of each word in every topic"
   ]
  },
  {
   "cell_type": "code",
   "execution_count": 17,
   "metadata": {},
   "outputs": [],
   "source": [
    "for i in range(0,len(x_train)):\n",
    "    cur_x=x_train.iloc[i]\n",
    "    cur_y=y_train.iloc[i]\n",
    "    map[cur_y]=map.get(cur_y,{})\n",
    "    for word in cur_x:\n",
    "        map[cur_y][word]=map[cur_y].get(word,0)+1"
   ]
  },
  {
   "cell_type": "code",
   "execution_count": 18,
   "metadata": {},
   "outputs": [
    {
     "data": {
      "text/plain": [
       "{0: 83563,\n",
       " 1: 75365,\n",
       " 2: 78956,\n",
       " 3: 67422,\n",
       " 4: 58935,\n",
       " 5: 103772,\n",
       " 6: 51128,\n",
       " 7: 72487,\n",
       " 8: 67832,\n",
       " 9: 71297,\n",
       " 10: 95259,\n",
       " 11: 125561,\n",
       " 12: 68915,\n",
       " 13: 97962,\n",
       " 14: 101880,\n",
       " 15: 109352,\n",
       " 16: 105602,\n",
       " 17: 144849,\n",
       " 18: 107816,\n",
       " 19: 68113}"
      ]
     },
     "execution_count": 18,
     "metadata": {},
     "output_type": "execute_result"
    }
   ],
   "source": [
    "tot_words_topic={}\n",
    "for i in range(0,len(map)):\n",
    "    for j in map[i]:\n",
    "        tot_words_topic[i]=tot_words_topic.get(i,0)+map[i][j]\n",
    "tot_words_topic\n",
    "#Total words in each topic"
   ]
  },
  {
   "cell_type": "code",
   "execution_count": 19,
   "metadata": {},
   "outputs": [
    {
     "data": {
      "text/plain": [
       "1756066"
      ]
     },
     "execution_count": 19,
     "metadata": {},
     "output_type": "execute_result"
    }
   ],
   "source": [
    "vocab_size=0\n",
    "for i in map:  \n",
    "    vocab_size+=sum(map[i].values())\n",
    "vocab_size\n",
    "#Total number of words"
   ]
  },
  {
   "cell_type": "code",
   "execution_count": 20,
   "metadata": {},
   "outputs": [],
   "source": [
    "y_pred=np.zeros(x_test.shape[0])\n",
    "for i in range(0,x_test.shape[0]):\n",
    "    q=np.ones(20,dtype=np.float128)\n",
    "    cur_x=x_test.iloc[i]\n",
    "    for j in map:\n",
    "        q[j]=priors[j]\n",
    "        for k in cur_x:\n",
    "            q[j]=q[j]*(map[j].get(k,0)+1)/np.float128(tot_words_topic[j]+vocab_size)\n",
    "            #calculating posteriors for every class and doing laplacian smoothing\n",
    "    y_pred[i]=np.argmax(q)\n",
    "        "
   ]
  },
  {
   "cell_type": "code",
   "execution_count": 21,
   "metadata": {},
   "outputs": [
    {
     "data": {
      "text/plain": [
       "0.7347318109399894"
      ]
     },
     "execution_count": 21,
     "metadata": {},
     "output_type": "execute_result"
    }
   ],
   "source": [
    "sklearn.metrics.accuracy_score(y_pred,y_test)"
   ]
  },
  {
   "cell_type": "code",
   "execution_count": 22,
   "metadata": {},
   "outputs": [
    {
     "data": {
      "image/png": "[encoded data removed]",
      "text/plain": [
       "<Figure size 1440x1440 with 2 Axes>"
      ]
     },
     "metadata": {
      "needs_background": "light"
     },
     "output_type": "display_data"
    }
   ],
   "source": [
    "confusionMat=sklearn.metrics.confusion_matrix(y_test,y_pred)\n",
    "confusionMat\n",
    "ax= plt.subplots(figsize=(20,20))\n",
    "\n",
    "ax=sns.heatmap(confusionMat, annot=True, fmt='g');  #annot=True to annotate cells, ftm='g' to disable scientific notation\n",
    "\n",
    "ax.set_xlabel('Predicted labels');ax.set_ylabel('True labels'); \n",
    "ax.set_title('Confusion Matrix for neyman pearson classifier'); "
   ]
  }
 ],
 "metadata": {
  "interpreter": {
   "hash": "9dff067c7937817354a0390f424b09ef35079e94da370ceed4ce836ff38114cc"
  },
  "kernelspec": {
   "display_name": "Python 3.8.5 ('base')",
   "language": "python",
   "name": "python3"
  },
  "language_info": {
   "codemirror_mode": {
    "name": "ipython",
    "version": 3
   },
   "file_extension": ".py",
   "mimetype": "text/x-python",
   "name": "python",
   "nbconvert_exporter": "python",
   "pygments_lexer": "ipython3",
   "version": "3.8.10"
  },
  "orig_nbformat": 4
 },
 "nbformat": 4,
 "nbformat_minor": 2
}
