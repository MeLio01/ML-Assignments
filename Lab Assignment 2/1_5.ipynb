{
 "cells": [
  {
   "cell_type": "code",
   "execution_count": 13,
   "metadata": {},
   "outputs": [
    {
     "name": "stdout",
     "output_type": "stream",
     "text": [
      "0.08429600001903774 0.7645981593789123\n"
     ]
    }
   ],
   "source": [
    "import numpy as np\n",
    "\n",
    "ta = 0.1   # bias of coina\n",
    "tb = 0.8   # BIAS of coinb\n",
    "d = 10\n",
    "n= 30   #total samples\n",
    "z = np.zeros(n) #hidden A =0 B=1\n",
    "x = np.zeros(n) #number of heads\n",
    "\n",
    "for i in range(n):\n",
    "    if np.random.uniform() <0.5:\n",
    "        x[i]  = np.random.binomial(d,ta)\n",
    "    else:\n",
    "        x[i]  = np.random.binomial(d,tb)\n",
    "        z[i]=1\n",
    "        \n",
    "## forget zs\n",
    "currAEst = 0.51 #beta or uniform choices are ok  \n",
    "currBEst = 0.534\n",
    "\n",
    "repeatcount = 1000  # instead of checking for convergence\n",
    "gammaiA = np.zeros(n)\n",
    "gammaiB = np.zeros(n)\n",
    "for i in range(repeatcount):\n",
    "    ## EStep starts\n",
    "    for j in range(n):\n",
    "        gammaiA[j] = 0.5* np.power(currAEst,x[j]) *np.power(1-currAEst,d-x[j]) \n",
    "        gammaiA[j] /= (0.5*np.power(currAEst,x[j]) *np.power(1-currAEst,d-x[j]) + 0.5* np.power(currBEst,x[j]) *np.power(1-currBEst,d-x[j]) )\n",
    "        gammaiB[j] = 1 - gammaiA[j]\n",
    "    numA = denA = numB = denB = 0\n",
    "    #Estep ends\n",
    "    \n",
    "    #MStep starts\n",
    "    for k in range(n):       \n",
    "        numA += gammaiA[k]*x[k]\n",
    "        numB += gammaiB[k]*x[k]\n",
    "        denA += gammaiA[k]*d\n",
    "        denB += gammaiB[k]*d\n",
    "    currAEst = numA/denA\n",
    "    currBEst = numB/denB\n",
    "    #Msteps ends\n",
    "\n",
    "print(currAEst,currBEst)"
   ]
  },
  {
   "cell_type": "code",
   "execution_count": 14,
   "metadata": {},
   "outputs": [],
   "source": [
    "y_pred=np.zeros(n)\n",
    "for i in range(0,n):\n",
    "    if gammaiA[i]>=gammaiB[i]:\n",
    "        y_pred[i]=0\n",
    "    else:\n",
    "        y_pred[i]=1"
   ]
  },
  {
   "cell_type": "code",
   "execution_count": 15,
   "metadata": {},
   "outputs": [
    {
     "data": {
      "text/plain": [
       "0.033333333333333333335"
      ]
     },
     "execution_count": 15,
     "metadata": {},
     "output_type": "execute_result"
    }
   ],
   "source": [
    "cntOfWrongPred=np.float128(0.0)\n",
    "for i in range(0,n):\n",
    "  y=y_pred[i]\n",
    "  if y!=z[i]:\n",
    "    cntOfWrongPred+=1.0\n",
    "\n",
    "Perr=cntOfWrongPred/n\n",
    "Perr"
   ]
  },
  {
   "cell_type": "code",
   "execution_count": 16,
   "metadata": {},
   "outputs": [
    {
     "data": {
      "image/png": "[encoded data removed]",
      "text/plain": [
       "<Figure size 360x360 with 2 Axes>"
      ]
     },
     "metadata": {
      "needs_background": "light"
     },
     "output_type": "display_data"
    }
   ],
   "source": [
    "import sklearn.metrics\n",
    "import matplotlib.pyplot as plt\n",
    "import seaborn as sns\n",
    "\n",
    "confusionMat=sklearn.metrics.confusion_matrix(z,y_pred)\n",
    "confusionMat\n",
    "ax= plt.subplots(figsize=(5,5))\n",
    "\n",
    "ax=sns.heatmap(confusionMat, annot=True, fmt='g');  #annot=True to annotate cells, ftm='g' to disable scientific notation\n",
    "\n",
    "ax.set_xlabel('Predicted labels');ax.set_ylabel('True labels'); \n",
    "ax.set_title('Confusion Matrix'); "
   ]
  }
 ],
 "metadata": {
  "interpreter": {
   "hash": "9dff067c7937817354a0390f424b09ef35079e94da370ceed4ce836ff38114cc"
  },
  "kernelspec": {
   "display_name": "Python 3.8.5 ('base')",
   "language": "python",
   "name": "python3"
  },
  "language_info": {
   "codemirror_mode": {
    "name": "ipython",
    "version": 3
   },
   "file_extension": ".py",
   "mimetype": "text/x-python",
   "name": "python",
   "nbconvert_exporter": "python",
   "pygments_lexer": "ipython3",
   "version": "3.8.10"
  },
  "orig_nbformat": 4
 },
 "nbformat": 4,
 "nbformat_minor": 2
}
