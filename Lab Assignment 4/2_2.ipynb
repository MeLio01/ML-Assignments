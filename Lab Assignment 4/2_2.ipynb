{
 "cells": [
  {
   "cell_type": "code",
   "execution_count": 3,
   "metadata": {},
   "outputs": [],
   "source": [
    "import numpy as np\n",
    "import matplotlib.pyplot as plt\n",
    "import pandas as pd\n",
    "import random\n",
    "from sklearn.linear_model import LinearRegression\n",
    "from sklearn.preprocessing import PolynomialFeatures\n",
    "import scipy as sp\n"
   ]
  },
  {
   "cell_type": "code",
   "execution_count": 4,
   "metadata": {},
   "outputs": [],
   "source": [
    "def polynomial(x, coeffs):\n",
    "    return sum([coeffs[i] * x ** i for i in range(len(coeffs))])"
   ]
  },
  {
   "cell_type": "code",
   "execution_count": 5,
   "metadata": {},
   "outputs": [],
   "source": [
    "random.seed(200)\n",
    "coeff_10= [random.uniform(-1,1) for i in range(11)]\n",
    "coeff_50= [random.uniform(-1,1) for i in range(51)]"
   ]
  },
  {
   "cell_type": "code",
   "execution_count": 6,
   "metadata": {},
   "outputs": [],
   "source": [
    "def generate_data(coeff_10,n,s):\n",
    "        n=int(n)\n",
    "        x = np.array([random.uniform(-1,1) for i in range(n)])\n",
    "        polynomial_10 = polynomial(x, coeff_10)+np.random.normal(0,s,len(x))\n",
    "        return x,polynomial_10\n",
    "\n"
   ]
  },
  {
   "cell_type": "code",
   "execution_count": 7,
   "metadata": {},
   "outputs": [],
   "source": [
    "test_x=np.array([random.uniform(-1,1) for i in range(10)])\n",
    "\n"
   ]
  },
  {
   "cell_type": "code",
   "execution_count": 8,
   "metadata": {},
   "outputs": [],
   "source": [
    "def overfit_measure(n,s,test_x):\n",
    "    x,polynomial_10 = generate_data(coeff_10,n,s)\n",
    "    test_polynomial_10 = polynomial(test_x, coeff_10)+np.random.normal(0,s,len(test_x))\n",
    "    x = x[:, np.newaxis]\n",
    "    polynomial_10 = polynomial_10[:, np.newaxis]\n",
    "    polynomial_features_10= PolynomialFeatures(degree=10)\n",
    "    x_poly_10 = polynomial_features_10.fit_transform(x)\n",
    "\n",
    "    model_10 = LinearRegression()\n",
    "    model_10.fit(x_poly_10, polynomial_10)\n",
    "    polynomial_features_2= PolynomialFeatures(degree=2)\n",
    "    x_poly_2 = polynomial_features_2.fit_transform(x)\n",
    "\n",
    "    model_2 = LinearRegression()\n",
    "    model_2.fit(x_poly_2, polynomial_10)\n",
    "    test_x=test_x[:, np.newaxis]\n",
    "    x_test_poly_10 = polynomial_features_10.fit_transform(test_x)\n",
    "    x_test_poly_2 = polynomial_features_2.fit_transform(test_x)\n",
    "    E_out_10=np.mean((test_polynomial_10-model_10.predict(x_test_poly_10))**2)\n",
    "    E_out_2=np.mean((test_polynomial_10-model_2.predict(x_test_poly_2))**2)\n",
    "    return E_out_10-E_out_2"
   ]
  },
  {
   "cell_type": "code",
   "execution_count": 9,
   "metadata": {},
   "outputs": [],
   "source": [
    "n=np.arange(1,150,10)\n",
    "s=np.arange(0,0.4,0.01)\n",
    "        "
   ]
  },
  {
   "cell_type": "code",
   "execution_count": 10,
   "metadata": {},
   "outputs": [
    {
     "data": {
      "text/plain": [
       "<matplotlib.colorbar.Colorbar at 0x1bef2849c70>"
      ]
     },
     "execution_count": 10,
     "metadata": {},
     "output_type": "execute_result"
    },
    {
     "data": {
      "image/png": "[encoded data removed]",
      "text/plain": [
       "<Figure size 432x288 with 2 Axes>"
      ]
     },
     "metadata": {
      "needs_background": "light"
     },
     "output_type": "display_data"
    }
   ],
   "source": [
    "x,y=np.meshgrid(n,s)\n",
    "z=np.array([overfit_measure(x,y,test_x) for x,y in zip(np.ravel(x),np.ravel(y))])\n",
    "z[z>=2]=2\n",
    "z=0.4*(z-min(z))/(max(z)-min(z))-0.2\n",
    "plt.contourf(x,y,z.reshape(x.shape))\n",
    "plt.colorbar()\n"
   ]
  },
  {
   "cell_type": "code",
   "execution_count": 17,
   "metadata": {},
   "outputs": [],
   "source": [
    "def pow_overfit(n,p,test_x):\n",
    "    test_polynomial_50 = polynomial(test_x, coeff_50)\n",
    "    x = np.array([random.uniform(-1,1) for i in range(n)])\n",
    "    polynomial_p = polynomial(x,coeff_50)\n",
    "    x=x[:,np.newaxis]\n",
    "    polynomial_p = polynomial_p[:, np.newaxis]\n",
    "    polynomial_features= PolynomialFeatures(degree=p)\n",
    "    x_poly = polynomial_features.fit_transform(x)\n",
    "\n",
    "    model = LinearRegression()\n",
    "    model.fit(x_poly, polynomial_p)\n",
    "    polynomial_features_2= PolynomialFeatures(degree=2)\n",
    "    x_poly_2 = polynomial_features_2.fit_transform(x)\n",
    "\n",
    "    model_2 = LinearRegression()\n",
    "    model_2.fit(x_poly_2, polynomial_p)\n",
    "    test_x=test_x[:, np.newaxis]\n",
    "    x_test_poly = polynomial_features.fit_transform(test_x)\n",
    "    x_test_poly_2 = polynomial_features_2.fit_transform(test_x)\n",
    "    E_out_10=np.mean((test_polynomial_50-model.predict(x_test_poly))**2)\n",
    "    E_out_2=np.mean((test_polynomial_50-model_2.predict(x_test_poly_2))**2)\n",
    "    return E_out_10-E_out_2\n",
    "    "
   ]
  },
  {
   "cell_type": "code",
   "execution_count": 12,
   "metadata": {},
   "outputs": [],
   "source": [
    "n=np.arange(1,150,10)\n",
    "p=np.arange(1,100,1)"
   ]
  },
  {
   "cell_type": "code",
   "execution_count": 18,
   "metadata": {},
   "outputs": [
    {
     "data": {
      "text/plain": [
       "<matplotlib.colorbar.Colorbar at 0x1bef2eb7340>"
      ]
     },
     "execution_count": 18,
     "metadata": {},
     "output_type": "execute_result"
    },
    {
     "data": {
      "image/png": "[encoded data removed]",
      "text/plain": [
       "<Figure size 432x288 with 2 Axes>"
      ]
     },
     "metadata": {
      "needs_background": "light"
     },
     "output_type": "display_data"
    }
   ],
   "source": [
    "x,y=np.meshgrid(n,p)\n",
    "z=np.array([pow_overfit(x,y,test_x) for x,y in zip(np.ravel(x),np.ravel(y))])\n",
    "z[z>=2]=2\n",
    "z=0.4*(z-min(z))/(max(z)-min(z))-0.2\n",
    "plt.contourf(x,y,z.reshape(x.shape))\n",
    "plt.colorbar()"
   ]
  }
 ],
 "metadata": {
  "interpreter": {
   "hash": "b3ba2566441a7c06988d0923437866b63cedc61552a5af99d1f4fb67d367b25f"
  },
  "kernelspec": {
   "display_name": "Python 3.8.8 ('base')",
   "language": "python",
   "name": "python3"
  },
  "language_info": {
   "codemirror_mode": {
    "name": "ipython",
    "version": 3
   },
   "file_extension": ".py",
   "mimetype": "text/x-python",
   "name": "python",
   "nbconvert_exporter": "python",
   "pygments_lexer": "ipython3",
   "version": "3.8.8"
  },
  "orig_nbformat": 4
 },
 "nbformat": 4,
 "nbformat_minor": 2
}
